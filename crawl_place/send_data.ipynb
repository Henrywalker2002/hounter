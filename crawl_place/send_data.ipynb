{
 "cells": [
  {
   "cell_type": "code",
   "execution_count": 10,
   "metadata": {},
   "outputs": [],
   "source": [
    "import pandas as pd \n",
    "from IPython.display import clear_output\n",
    "import json\n",
    "\n",
    "import requests "
   ]
  },
  {
   "cell_type": "markdown",
   "metadata": {},
   "source": [
    "bệnh viện"
   ]
  },
  {
   "cell_type": "code",
   "execution_count": 44,
   "metadata": {},
   "outputs": [
    {
     "data": {
      "text/plain": [
       "Index(['Id', 'Layer', 'Path', 'CreatedDate', 'CreatedUser', 'CreatedUserId',\n",
       "       'ModifiedDate', 'ModifiedUser', 'ModifiedUserId', 'Title',\n",
       "       'Description', 'tenbenhvien', 'hinhthuctochuc', 'giayphep', 'ngaycap',\n",
       "       'diachi', 'quanhuyen', 'phuongxa', 'vitri', 'ghichu', 'dienthoai',\n",
       "       'chuyenmon'],\n",
       "      dtype='object')"
      ]
     },
     "execution_count": 44,
     "metadata": {},
     "output_type": "execute_result"
    }
   ],
   "source": [
    "df = pd.read_csv('ICTHCM_BENHVIEN.csv')\n",
    "df.columns"
   ]
  },
  {
   "cell_type": "code",
   "execution_count": 45,
   "metadata": {},
   "outputs": [],
   "source": [
    "def send_data(df, type):\n",
    "    count = 0\n",
    "    for index, row in df.iterrows():\n",
    "        vi_tri = json.loads(row['vitri'])\n",
    "        data = {\n",
    "            \"type\" : type,\n",
    "            \"name\" : row['Title'],\n",
    "            \"address\" : row['diachi'] + ', ' \"TPHCM\",\n",
    "            \"longitude\" : vi_tri['coordinates'][0],\n",
    "            \"latitude\" : vi_tri['coordinates'][1],\n",
    "        }\n",
    "        response = requests.post('http://localhost:8080/api/place', json = data, headers = {'Content-Type': 'application/json'})\n",
    "        if (response.status_code != 200):\n",
    "            print(response.status_code)\n",
    "            print(response.text)\n",
    "            break\n",
    "        response = response.json()\n",
    "        print(response)\n",
    "        clear_output()\n",
    "        print(f\"{count} / {len(df)}\")\n",
    "        count += 1"
   ]
  },
  {
   "cell_type": "code",
   "execution_count": 46,
   "metadata": {},
   "outputs": [
    {
     "name": "stdout",
     "output_type": "stream",
     "text": [
      "127 / 128\n"
     ]
    }
   ],
   "source": [
    "send_data(df, 'HOSPITAL')"
   ]
  },
  {
   "cell_type": "code",
   "execution_count": 47,
   "metadata": {},
   "outputs": [
    {
     "data": {
      "text/plain": [
       "Index(['Id', 'Layer', 'Path', 'CreatedDate', 'CreatedUser', 'CreatedUserId',\n",
       "       'ModifiedDate', 'ModifiedUser', 'ModifiedUserId', 'Title',\n",
       "       'Description', 'tendonvi', 'diachi', 'vitri', 'dienthoai', 'quanhuyen',\n",
       "       'phuongxa', 'RLongitude', 'RLatitude'],\n",
       "      dtype='object')"
      ]
     },
     "execution_count": 47,
     "metadata": {},
     "output_type": "execute_result"
    }
   ],
   "source": [
    "df = pd.read_csv('ICTHCM_EDU_THCS.csv')\n",
    "df.columns"
   ]
  },
  {
   "cell_type": "code",
   "execution_count": 48,
   "metadata": {},
   "outputs": [],
   "source": [
    "def send_data(df, type):\n",
    "    count = 0\n",
    "    for index, row in df.iterrows():\n",
    "        vi_tri = json.loads(row['vitri'])\n",
    "        data = {\n",
    "            \"type\" : type,\n",
    "            \"name\" : row['Title'],\n",
    "            \"address\" : f\"{row['diachi']}, {row['phuongxa']}, {row['quanhuyen']}, TPHCM\",\n",
    "            \"longitude\" : vi_tri['coordinates'][0],\n",
    "            \"latitude\" : vi_tri['coordinates'][1],\n",
    "        }\n",
    "        response = requests.post('http://localhost:8080/api/place', json = data, headers = {'Content-Type': 'application/json'})\n",
    "        if (response.status_code != 200):\n",
    "            print(response.status_code)\n",
    "            print(response.text)\n",
    "            break\n",
    "        response = response.json()\n",
    "        print(response)\n",
    "        clear_output()\n",
    "        print(f\"{count} / {len(df)}\")\n",
    "        count += 1\n"
   ]
  },
  {
   "cell_type": "code",
   "execution_count": 49,
   "metadata": {},
   "outputs": [
    {
     "data": {
      "text/plain": [
       "Index(['Id', 'Layer', 'Path', 'CreatedDate', 'CreatedUser', 'CreatedUserId',\n",
       "       'ModifiedDate', 'ModifiedUser', 'ModifiedUserId', 'Title',\n",
       "       'Description', 'tendonvi', 'diachi', 'vitri', 'dienthoai', 'quanhuyen',\n",
       "       'phuongxa', 'RLongitude', 'RLatitude'],\n",
       "      dtype='object')"
      ]
     },
     "execution_count": 49,
     "metadata": {},
     "output_type": "execute_result"
    }
   ],
   "source": [
    "df = pd.read_csv('ICTHCM_EDU_THPT.csv')\n",
    "df.columns"
   ]
  },
  {
   "cell_type": "code",
   "execution_count": 50,
   "metadata": {},
   "outputs": [
    {
     "name": "stdout",
     "output_type": "stream",
     "text": [
      "253 / 254\n"
     ]
    }
   ],
   "source": [
    "send_data(df, 'HIGHER_SCHOOL')"
   ]
  },
  {
   "cell_type": "code",
   "execution_count": 39,
   "metadata": {},
   "outputs": [
    {
     "data": {
      "text/plain": [
       "Index(['Id', 'Layer', 'Path', 'CreatedDate', 'CreatedUser', 'CreatedUserId',\n",
       "       'ModifiedDate', 'ModifiedUser', 'ModifiedUserId', 'Title',\n",
       "       'Description', 'Name', 'tendonvi', 'diachi', 'vitri', 'dienthoai',\n",
       "       'quanhuyen', 'phuongxa', 'RLongitude', 'RLatitude'],\n",
       "      dtype='object')"
      ]
     },
     "execution_count": 39,
     "metadata": {},
     "output_type": "execute_result"
    }
   ],
   "source": [
    "df = pd.read_csv('ICTHCM_EDU_TIEUHOC.csv')\n",
    "df.columns"
   ]
  },
  {
   "cell_type": "code",
   "execution_count": 43,
   "metadata": {},
   "outputs": [
    {
     "name": "stdout",
     "output_type": "stream",
     "text": [
      "791 / 792\n"
     ]
    }
   ],
   "source": [
    "send_data(df, 'PRIMARY_SCHOOL')"
   ]
  },
  {
   "cell_type": "code",
   "execution_count": 52,
   "metadata": {},
   "outputs": [
    {
     "data": {
      "text/plain": [
       "Index(['Id', 'Layer', 'Path', 'CreatedDate', 'CreatedUser', 'CreatedUserId',\n",
       "       'ModifiedDate', 'ModifiedUser', 'ModifiedUserId', 'Title',\n",
       "       'Description', 'dienthoai', 'diachi', 'thanhphoquanhuyen', 'phuongxa',\n",
       "       'vitritrenbando', 'donvi'],\n",
       "      dtype='object')"
      ]
     },
     "execution_count": 52,
     "metadata": {},
     "output_type": "execute_result"
    }
   ],
   "source": [
    "df = pd.read_csv('ICTHCM_HCM_CHO.csv')\n",
    "df.columns"
   ]
  },
  {
   "cell_type": "code",
   "execution_count": 53,
   "metadata": {},
   "outputs": [],
   "source": [
    "def send_data(df, type):\n",
    "    count = 0\n",
    "    for index, row in df.iterrows():\n",
    "        vi_tri = json.loads(row['vitritrenbando'])\n",
    "        data = {\n",
    "            \"type\" : type,\n",
    "            \"name\" : row['Title'],\n",
    "            \"address\" : row['diachi'],\n",
    "            \"longitude\" : vi_tri['coordinates'][0],\n",
    "            \"latitude\" : vi_tri['coordinates'][1],\n",
    "        }\n",
    "        response = requests.post('http://localhost:8080/api/place', json = data, headers = {'Content-Type': 'application/json'})\n",
    "        if (response.status_code != 200):\n",
    "            print(response.status_code)\n",
    "            print(response.text)\n",
    "            break\n",
    "        response = response.json()\n",
    "        print(response)\n",
    "        clear_output()\n",
    "        print(f\"{count} / {len(df)}\")\n",
    "        count += 1"
   ]
  },
  {
   "cell_type": "code",
   "execution_count": 54,
   "metadata": {},
   "outputs": [
    {
     "name": "stdout",
     "output_type": "stream",
     "text": [
      "351 / 352\n"
     ]
    }
   ],
   "source": [
    "send_data(df, 'MARKET')"
   ]
  },
  {
   "cell_type": "code",
   "execution_count": 55,
   "metadata": {},
   "outputs": [
    {
     "data": {
      "text/plain": [
       "Index(['Id', 'Layer', 'Path', 'CreatedDate', 'CreatedUser', 'CreatedUserId',\n",
       "       'ModifiedDate', 'ModifiedUser', 'ModifiedUserId', 'Title',\n",
       "       'Description', 'Name', 'dienthoai', 'diachi', 'thanhphoquanhuyen',\n",
       "       'phuongxa', 'vitritrenbando', 'donvi'],\n",
       "      dtype='object')"
      ]
     },
     "execution_count": 55,
     "metadata": {},
     "output_type": "execute_result"
    }
   ],
   "source": [
    "df = pd.read_csv('ICTHCM_HCM_CUAHANGTIENLOI.csv')\n",
    "df.columns"
   ]
  },
  {
   "cell_type": "code",
   "execution_count": 56,
   "metadata": {},
   "outputs": [
    {
     "name": "stdout",
     "output_type": "stream",
     "text": [
      "1272 / 1273\n"
     ]
    }
   ],
   "source": [
    "send_data(df, 'GROCERY_STORE')"
   ]
  },
  {
   "cell_type": "code",
   "execution_count": 57,
   "metadata": {},
   "outputs": [
    {
     "data": {
      "text/plain": [
       "Index(['Id', 'Layer', 'Path', 'CreatedDate', 'CreatedUser', 'CreatedUserId',\n",
       "       'ModifiedDate', 'ModifiedUser', 'ModifiedUserId', 'Title',\n",
       "       'Description', 'dienthoai', 'diachi', 'thanhphoquanhuyen', 'phuongxa',\n",
       "       'vitritrenbando', 'donvi'],\n",
       "      dtype='object')"
      ]
     },
     "execution_count": 57,
     "metadata": {},
     "output_type": "execute_result"
    }
   ],
   "source": [
    "df = pd.read_csv('ICTHCM_HCM_SIEUTHI.csv')\n",
    "df.columns"
   ]
  },
  {
   "cell_type": "code",
   "execution_count": 58,
   "metadata": {},
   "outputs": [
    {
     "name": "stdout",
     "output_type": "stream",
     "text": [
      "190 / 191\n"
     ]
    }
   ],
   "source": [
    "send_data(df, 'SUPERMARKET')"
   ]
  },
  {
   "cell_type": "code",
   "execution_count": 59,
   "metadata": {},
   "outputs": [
    {
     "data": {
      "text/plain": [
       "Index(['Id', 'Layer', 'Path', 'CreatedDate', 'CreatedUser', 'CreatedUserId',\n",
       "       'ModifiedDate', 'ModifiedUser', 'ModifiedUserId', 'Title',\n",
       "       'Description', 'dienthoai', 'diachi', 'thanhphoquanhuyen', 'phuongxa',\n",
       "       'vitritrenbando', 'donvi'],\n",
       "      dtype='object')"
      ]
     },
     "execution_count": 59,
     "metadata": {},
     "output_type": "execute_result"
    }
   ],
   "source": [
    "df = pd.read_csv('ICTHCM_HCM_TRUNGTAMTHUONGMAI.csv')\n",
    "df.columns"
   ]
  },
  {
   "cell_type": "code",
   "execution_count": 60,
   "metadata": {},
   "outputs": [
    {
     "name": "stdout",
     "output_type": "stream",
     "text": [
      "74 / 75\n"
     ]
    }
   ],
   "source": [
    "send_data(df, 'COMMERCIAL_CENTER')"
   ]
  }
 ],
 "metadata": {
  "kernelspec": {
   "display_name": ".venv",
   "language": "python",
   "name": "python3"
  },
  "language_info": {
   "codemirror_mode": {
    "name": "ipython",
    "version": 3
   },
   "file_extension": ".py",
   "mimetype": "text/x-python",
   "name": "python",
   "nbconvert_exporter": "python",
   "pygments_lexer": "ipython3",
   "version": "3.11.7"
  }
 },
 "nbformat": 4,
 "nbformat_minor": 2
}
